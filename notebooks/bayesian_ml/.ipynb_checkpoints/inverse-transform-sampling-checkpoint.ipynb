{
 "cells": [
  {
   "cell_type": "code",
   "execution_count": 1,
   "id": "12607763",
   "metadata": {},
   "outputs": [
    {
     "name": "stderr",
     "output_type": "stream",
     "text": [
      "/Users/nipun/miniconda3/lib/python3.8/site-packages/jax/_src/lib/__init__.py:33: UserWarning: JAX on Mac ARM machines is experimental and minimally tested. Please see https://github.com/google/jax/issues/5501 in the event of problems.\n",
      "  warnings.warn(\"JAX on Mac ARM machines is experimental and minimally tested. \"\n"
     ]
    }
   ],
   "source": [
    "try:\n",
    "    import distrax\n",
    "except ModuleNotFoundError:\n",
    "    %pip install -qq distrax\n",
    "    import distrax\n",
    "    \n",
    "try:\n",
    "    import matplotlib.pyplot as plt\n",
    "except ModuleNotFoundError:\n",
    "    %pip install -qq matplotlib\n",
    "    import matplotlib.pyplot as plt\n",
    "\n",
    "try:\n",
    "    import pandas as pd\n",
    "except ModuleNotFoundError:\n",
    "    %pip install -qq pandas\n",
    "    import pandas as pd\n",
    "\n",
    "try:\n",
    "    import seaborn as sns\n",
    "except ModuleNotFoundError:\n",
    "    %pip install -qq seaborn\n",
    "    import seaborn as sns\n",
    "    \n",
    "try:\n",
    "    import jax\n",
    "except ModuleNotFoundError:\n",
    "    %pip install -qq jax\n",
    "    import jax\n",
    "\n",
    "import jax.numpy as jnp\n",
    "\n",
    "    \n",
    "%matplotlib inline"
   ]
  },
  {
   "cell_type": "code",
   "execution_count": 2,
   "id": "ede0af73",
   "metadata": {},
   "outputs": [
    {
     "name": "stderr",
     "output_type": "stream",
     "text": [
      "WARNING:absl:No GPU/TPU found, falling back to CPU. (Set TF_CPP_MIN_LOG_LEVEL=0 and rerun for more info.)\n"
     ]
    }
   ],
   "source": [
    "p_h = 0.7\n",
    "bern = distrax.Bernoulli(probs=p_h)"
   ]
  },
  {
   "cell_type": "code",
   "execution_count": 3,
   "id": "8e10d8df",
   "metadata": {},
   "outputs": [
    {
     "data": {
      "text/plain": [
       "0.30000000000000004"
      ]
     },
     "execution_count": 3,
     "metadata": {},
     "output_type": "execute_result"
    }
   ],
   "source": [
    "p_t = 1 - p_h \n",
    "p_t"
   ]
  },
  {
   "cell_type": "code",
   "execution_count": 4,
   "id": "728602f3",
   "metadata": {},
   "outputs": [
    {
     "data": {
      "text/plain": [
       "Tails (0)    0.3\n",
       "Heads (1)    0.7\n",
       "dtype: float64"
      ]
     },
     "execution_count": 4,
     "metadata": {},
     "output_type": "execute_result"
    }
   ],
   "source": [
    "ser = pd.Series({\"Tails (0)\":p_t, \"Heads (1)\": p_h})\n",
    "ser"
   ]
  },
  {
   "cell_type": "code",
   "execution_count": 5,
   "id": "1743fa9c",
   "metadata": {},
   "outputs": [
    {
     "data": {
      "text/plain": [
       "Text(0, 0.5, 'PDF (P(X))')"
      ]
     },
     "execution_count": 5,
     "metadata": {},
     "output_type": "execute_result"
    },
    {
     "data": {
      "image/png": "[encoded data removed]",
      "text/plain": [
       "<Figure size 432x288 with 1 Axes>"
      ]
     },
     "metadata": {
      "needs_background": "light"
     },
     "output_type": "display_data"
    }
   ],
   "source": [
    "ser.plot(kind='bar', rot = 0)\n",
    "sns.despine()\n",
    "plt.ylim((0, 1))\n",
    "plt.ylabel(\"PDF (P(X))\")"
   ]
  },
  {
   "cell_type": "code",
   "execution_count": 6,
   "id": "5060f37b",
   "metadata": {},
   "outputs": [
    {
     "data": {
      "text/plain": [
       "DeviceArray([0.3, 0.7], dtype=float32)"
      ]
     },
     "execution_count": 6,
     "metadata": {},
     "output_type": "execute_result"
    }
   ],
   "source": [
    "probabilities = jnp.array([p_t, p_h])\n",
    "probabilities"
   ]
  },
  {
   "cell_type": "code",
   "execution_count": 7,
   "id": "5425f728",
   "metadata": {},
   "outputs": [],
   "source": [
    "cdf_vals = probabilities.cumsum()"
   ]
  },
  {
   "cell_type": "code",
   "execution_count": 8,
   "id": "77581737",
   "metadata": {},
   "outputs": [],
   "source": [
    "cdf_series = pd.Series(data=cdf_vals, index=[\"Tails (0)\", \"Heads (1)\"])"
   ]
  },
  {
   "cell_type": "code",
   "execution_count": 9,
   "id": "438a4397",
   "metadata": {},
   "outputs": [
    {
     "data": {
      "text/plain": [
       "Tails (0)    0.3\n",
       "Heads (1)    1.0\n",
       "dtype: float32"
      ]
     },
     "execution_count": 9,
     "metadata": {},
     "output_type": "execute_result"
    }
   ],
   "source": [
    "cdf_series"
   ]
  },
  {
   "cell_type": "code",
   "execution_count": 10,
   "id": "bb77edd5",
   "metadata": {},
   "outputs": [
    {
     "data": {
      "text/plain": [
       "Text(0, 0.5, 'CDF ($F_X(x))$')"
      ]
     },
     "execution_count": 10,
     "metadata": {},
     "output_type": "execute_result"
    },
    {
     "data": {
      "image/png": "[encoded data removed]",
      "text/plain": [
       "<Figure size 432x288 with 1 Axes>"
      ]
     },
     "metadata": {
      "needs_background": "light"
     },
     "output_type": "display_data"
    }
   ],
   "source": [
    "cdf_series.plot(kind='bar', rot = 0)\n",
    "sns.despine()\n",
    "plt.ylim((0, 1))\n",
    "plt.ylabel(r\"CDF ($F_X(x))$\")"
   ]
  },
  {
   "cell_type": "code",
   "execution_count": 11,
   "id": "baeb65fb",
   "metadata": {},
   "outputs": [
    {
     "data": {
      "text/plain": [
       "DeviceArray(716, dtype=int32)"
      ]
     },
     "execution_count": 11,
     "metadata": {},
     "output_type": "execute_result"
    }
   ],
   "source": [
    "bern_samples = bern.sample(seed = jax.random.PRNGKey(2), sample_shape=1000)\n",
    "bern_samples.sum()"
   ]
  },
  {
   "cell_type": "code",
   "execution_count": 12,
   "id": "747871a6",
   "metadata": {},
   "outputs": [],
   "source": [
    "categorical_dist = distrax.Categorical(probs = [p_t, p_h])"
   ]
  },
  {
   "cell_type": "code",
   "execution_count": 13,
   "id": "226c1519",
   "metadata": {},
   "outputs": [
    {
     "data": {
      "text/plain": [
       "DeviceArray(696, dtype=int32)"
      ]
     },
     "execution_count": 13,
     "metadata": {},
     "output_type": "execute_result"
    }
   ],
   "source": [
    "categorical_samples = categorical_dist.sample(\n",
    "    seed=jax.random.PRNGKey(2), sample_shape=1000\n",
    ")\n",
    "categorical_samples.sum()"
   ]
  },
  {
   "cell_type": "code",
   "execution_count": 14,
   "id": "66f2b9ae",
   "metadata": {},
   "outputs": [
    {
     "data": {
      "text/plain": [
       "DeviceArray([0.3, 0.7], dtype=float32)"
      ]
     },
     "execution_count": 14,
     "metadata": {},
     "output_type": "execute_result"
    }
   ],
   "source": [
    "categorical_dist.probs"
   ]
  },
  {
   "cell_type": "code",
   "execution_count": 15,
   "id": "d3aacfb2",
   "metadata": {},
   "outputs": [
    {
     "data": {
      "text/plain": [
       "<AxesSubplot:>"
      ]
     },
     "execution_count": 15,
     "metadata": {},
     "output_type": "execute_result"
    },
    {
     "data": {
      "image/png": "[encoded data removed]",
      "text/plain": [
       "<Figure size 432x288 with 1 Axes>"
      ]
     },
     "metadata": {
      "needs_background": "light"
     },
     "output_type": "display_data"
    }
   ],
   "source": [
    "(pd.Series(bern_samples).value_counts().sort_index()/len(bern_samples)).plot(kind='bar')"
   ]
  },
  {
   "cell_type": "code",
   "execution_count": 16,
   "id": "d7d39b77",
   "metadata": {},
   "outputs": [
    {
     "data": {
      "text/plain": [
       "<AxesSubplot:>"
      ]
     },
     "execution_count": 16,
     "metadata": {},
     "output_type": "execute_result"
    },
    {
     "data": {
      "image/png": "[encoded data removed]",
      "text/plain": [
       "<Figure size 432x288 with 1 Axes>"
      ]
     },
     "metadata": {
      "needs_background": "light"
     },
     "output_type": "display_data"
    }
   ],
   "source": [
    "(pd.Series(categorical_samples).value_counts().sort_index()/len(bern_samples)).plot(kind='bar')"
   ]
  },
  {
   "cell_type": "code",
   "execution_count": 17,
   "id": "921b34b7",
   "metadata": {},
   "outputs": [],
   "source": [
    "U = distrax.Uniform()\n"
   ]
  },
  {
   "cell_type": "code",
   "execution_count": 18,
   "id": "ae1d0b55",
   "metadata": {},
   "outputs": [],
   "source": [
    "u = U.sample(seed = jax.random.PRNGKey(2), sample_shape = 1000)"
   ]
  },
  {
   "cell_type": "code",
   "execution_count": 19,
   "id": "d201db35",
   "metadata": {},
   "outputs": [
    {
     "data": {
      "text/plain": [
       "<AxesSubplot:ylabel='Density'>"
      ]
     },
     "execution_count": 19,
     "metadata": {},
     "output_type": "execute_result"
    },
    {
     "data": {
      "image/png": "[encoded data removed]",
      "text/plain": [
       "<Figure size 432x288 with 1 Axes>"
      ]
     },
     "metadata": {
      "needs_background": "light"
     },
     "output_type": "display_data"
    }
   ],
   "source": [
    "sns.kdeplot(u, clip = [0, 1])"
   ]
  },
  {
   "cell_type": "code",
   "execution_count": 20,
   "id": "0c4b1e5a",
   "metadata": {},
   "outputs": [
    {
     "data": {
      "text/plain": [
       "(0.30000000000000004, 0.7)"
      ]
     },
     "execution_count": 20,
     "metadata": {},
     "output_type": "execute_result"
    }
   ],
   "source": [
    "p_t, p_h"
   ]
  },
  {
   "cell_type": "code",
   "execution_count": 21,
   "id": "843ff4a0",
   "metadata": {},
   "outputs": [
    {
     "name": "stderr",
     "output_type": "stream",
     "text": [
      "/Users/nipun/miniconda3/lib/python3.8/site-packages/jax/_src/numpy/lax_numpy.py:5154: UserWarning: Explicitly requested dtype int requested in astype is not available, and will be truncated to dtype int32. To enable more dtypes, set the jax_enable_x64 configuration option or the JAX_ENABLE_X64 shell environment variable. See https://github.com/google/jax#current-gotchas for more.\n",
      "  lax_internal._check_user_dtype_supported(dtype, \"astype\")\n"
     ]
    },
    {
     "data": {
      "text/plain": [
       "DeviceArray(682, dtype=int32)"
      ]
     },
     "execution_count": 21,
     "metadata": {},
     "output_type": "execute_result"
    }
   ],
   "source": [
    "(u > p_t).astype('int').sum()"
   ]
  },
  {
   "cell_type": "code",
   "execution_count": 22,
   "id": "f1e84491",
   "metadata": {},
   "outputs": [
    {
     "data": {
      "text/plain": [
       "<AxesSubplot:title={'center':'PDF'}>"
      ]
     },
     "execution_count": 22,
     "metadata": {},
     "output_type": "execute_result"
    },
    {
     "data": {
      "image/png": "[encoded data removed]",
      "text/plain": [
       "<Figure size 432x288 with 1 Axes>"
      ]
     },
     "metadata": {
      "needs_background": "light"
     },
     "output_type": "display_data"
    }
   ],
   "source": [
    "probs = jnp.array([0.5, 0.2, 0.2, 0.1])\n",
    "pd.Series(probs, index = [0, 1, 2, 3]).plot(kind='bar', title='PDF')"
   ]
  },
  {
   "cell_type": "code",
   "execution_count": 23,
   "id": "ed368ed6",
   "metadata": {},
   "outputs": [
    {
     "data": {
      "text/plain": [
       "<AxesSubplot:title={'center':'CDF'}>"
      ]
     },
     "execution_count": 23,
     "metadata": {},
     "output_type": "execute_result"
    },
    {
     "data": {
      "image/png": "[encoded data removed]",
      "text/plain": [
       "<Figure size 432x288 with 1 Axes>"
      ]
     },
     "metadata": {
      "needs_background": "light"
     },
     "output_type": "display_data"
    }
   ],
   "source": [
    "pd.Series(probs, index = [0, 1, 2, 3]).cumsum().plot(kind='bar', title='CDF')"
   ]
  },
  {
   "cell_type": "code",
   "execution_count": 24,
   "id": "af84e849",
   "metadata": {},
   "outputs": [],
   "source": [
    "import tensorflow_probability.substrates.jax as tfp\n",
    "\n",
    "exp_d = tfp.distributions.Exponential(rate = 1)"
   ]
  },
  {
   "cell_type": "code",
   "execution_count": 26,
   "id": "6bc5a705",
   "metadata": {},
   "outputs": [],
   "source": [
    "its_samples = -jnp.log(1-u)"
   ]
  },
  {
   "cell_type": "code",
   "execution_count": 27,
   "id": "9b451037",
   "metadata": {},
   "outputs": [
    {
     "data": {
      "text/plain": [
       "<matplotlib.legend.Legend at 0x1588b5880>"
      ]
     },
     "execution_count": 27,
     "metadata": {},
     "output_type": "execute_result"
    },
    {
     "data": {
      "image/png": "[encoded data removed]",
      "text/plain": [
       "<Figure size 432x288 with 1 Axes>"
      ]
     },
     "metadata": {
      "needs_background": "light"
     },
     "output_type": "display_data"
    }
   ],
   "source": [
    "xs = jnp.linspace(0, 10, 1000)\n",
    "plt.plot(xs, exp_d.prob(xs), label = 'PDF', lw=5)\n",
    "plt.plot(xs, 1 - exp_d.prob(xs), label = 'CDF', lw=5)\n",
    "plt.hist(its_samples, density=True, label='Samples from ITS', alpha=0.5, bins=30)\n",
    "plt.legend()"
   ]
  },
  {
   "cell_type": "code",
   "execution_count": 28,
   "id": "e415aac5",
   "metadata": {},
   "outputs": [
    {
     "data": {
      "text/plain": [
       "(array([0.76788232, 0.37935222, 0.16979068, 0.10095664, 0.05659689,\n",
       "        0.02294469, 0.00917787, 0.00917788, 0.00917787, 0.00458894]),\n",
       " array([3.5508659e-03, 6.5729690e-01, 1.3110429e+00, 1.9647890e+00,\n",
       "        2.6185350e+00, 3.2722812e+00, 3.9260271e+00, 4.5797734e+00,\n",
       "        5.2335191e+00, 5.8872652e+00, 6.5410113e+00], dtype=float32),\n",
       " <BarContainer object of 10 artists>)"
      ]
     },
     "execution_count": 28,
     "metadata": {},
     "output_type": "execute_result"
    },
    {
     "data": {
      "image/png": "[encoded data removed]",
      "text/plain": [
       "<Figure size 432x288 with 1 Axes>"
      ]
     },
     "metadata": {
      "needs_background": "light"
     },
     "output_type": "display_data"
    }
   ],
   "source": [
    "plt.hist(its_samples, density=True)"
   ]
  },
  {
   "cell_type": "code",
   "execution_count": 29,
   "id": "2dd512b5",
   "metadata": {},
   "outputs": [],
   "source": [
    "from typing import Generator\n",
    "\n",
    "def lcg(modulus: int, a: int, c: int, seed: int) -> Generator[int, None, None]:\n",
    "    \"\"\"Linear congruential generator.\"\"\"\n",
    "    while True:\n",
    "        seed = (a * seed + c) % modulus\n",
    "        yield seed"
   ]
  },
  {
   "cell_type": "code",
   "execution_count": 30,
   "id": "5703386d",
   "metadata": {},
   "outputs": [],
   "source": [
    "m = 2**31 - 1\n",
    "a = 313\n",
    "c = 529\n",
    "seed = 7"
   ]
  },
  {
   "cell_type": "code",
   "execution_count": 31,
   "id": "b5583a3c",
   "metadata": {},
   "outputs": [],
   "source": [
    "random_var = lcg(m, a, c, seed)"
   ]
  },
  {
   "cell_type": "code",
   "execution_count": 32,
   "id": "ab7757bb",
   "metadata": {},
   "outputs": [],
   "source": [
    "random_uniform_samples = jnp.array([next(random_var)/m for _ in range(1000)])"
   ]
  },
  {
   "cell_type": "code",
   "execution_count": 33,
   "id": "82dec10b",
   "metadata": {},
   "outputs": [
    {
     "data": {
      "text/plain": [
       "(array([ 88.,  86.,  91., 102., 115.,  99., 101., 100., 102., 116.]),\n",
       " array([1.2665987e-06, 9.9867292e-02, 1.9973332e-01, 2.9959935e-01,\n",
       "        3.9946538e-01, 4.9933138e-01, 5.9919739e-01, 6.9906342e-01,\n",
       "        7.9892945e-01, 8.9879549e-01, 9.9866152e-01], dtype=float32),\n",
       " <BarContainer object of 10 artists>)"
      ]
     },
     "execution_count": 33,
     "metadata": {},
     "output_type": "execute_result"
    },
    {
     "data": {
      "image/png": "[encoded data removed]",
      "text/plain": [
       "<Figure size 432x288 with 1 Axes>"
      ]
     },
     "metadata": {
      "needs_background": "light"
     },
     "output_type": "display_data"
    }
   ],
   "source": [
    "plt.hist(random_uniform_samples)"
   ]
  }
 ],
 "metadata": {
  "kernelspec": {
   "display_name": "Python 3 (ipykernel)",
   "language": "python",
   "name": "python3"
  },
  "language_info": {
   "codemirror_mode": {
    "name": "ipython",
    "version": 3
   },
   "file_extension": ".py",
   "mimetype": "text/x-python",
   "name": "python",
   "nbconvert_exporter": "python",
   "pygments_lexer": "ipython3",
   "version": "3.8.13"
  }
 },
 "nbformat": 4,
 "nbformat_minor": 5
}
