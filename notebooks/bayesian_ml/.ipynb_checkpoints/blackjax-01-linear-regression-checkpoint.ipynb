{
 "cells": [
  {
   "cell_type": "code",
   "execution_count": 1,
   "id": "304e31f5",
   "metadata": {},
   "outputs": [],
   "source": [
    "import jax\n",
    "jax.config.update(\"jax_enable_x64\", True)\n",
    "import numpy as np\n",
    "import jax.numpy as jnp\n",
    "import jax.random as random\n",
    "import matplotlib.pyplot as plt\n",
    "from sklearn.datasets import make_biclusters\n",
    "\n",
    "import blackjax"
   ]
  },
  {
   "cell_type": "code",
   "execution_count": 2,
   "id": "f6d97b93",
   "metadata": {},
   "outputs": [],
   "source": [
    "num_points = 100\n",
    "M = 2\n",
    "x = np.linspace(-5, 5, num_points)\n",
    "f = 4*x + 5\n",
    "y = f + np.random.randn(num_points)"
   ]
  },
  {
   "cell_type": "code",
   "execution_count": 3,
   "id": "a5acfbb6",
   "metadata": {},
   "outputs": [
    {
     "data": {
      "text/plain": [
       "[<matplotlib.lines.Line2D at 0x11d94e6a0>]"
      ]
     },
     "execution_count": 3,
     "metadata": {},
     "output_type": "execute_result"
    },
    {
     "data": {
      "image/png": "[encoded data removed]",
      "text/plain": [
       "<Figure size 432x288 with 1 Axes>"
      ]
     },
     "metadata": {
      "needs_background": "light"
     },
     "output_type": "display_data"
    }
   ],
   "source": [
    "plt.scatter(x, y, s = 10)\n",
    "plt.plot(x, f)"
   ]
  },
  {
   "cell_type": "code",
   "execution_count": 4,
   "id": "e0be4664",
   "metadata": {},
   "outputs": [],
   "source": [
    "import distrax"
   ]
  },
  {
   "cell_type": "code",
   "execution_count": 5,
   "id": "fe7d5236",
   "metadata": {},
   "outputs": [],
   "source": [
    "def logprob_fn(theta):\n",
    "    dist = distrax.MultivariateNormalDiag(loc = x*theta[1] + theta[0], scale_diag=jnp.ones(num_points))\n",
    "    return dist.log_prob(y)"
   ]
  },
  {
   "cell_type": "code",
   "execution_count": 6,
   "id": "ffbbddb5",
   "metadata": {},
   "outputs": [
    {
     "name": "stderr",
     "output_type": "stream",
     "text": [
      "WARNING:absl:No GPU/TPU found, falling back to CPU. (Set TF_CPP_MIN_LOG_LEVEL=0 and rerun for more info.)\n"
     ]
    }
   ],
   "source": [
    "theta_init = jnp.array([0., 0.])"
   ]
  },
  {
   "cell_type": "code",
   "execution_count": 7,
   "id": "dd471b45",
   "metadata": {},
   "outputs": [
    {
     "data": {
      "text/plain": [
       "(DeviceArray(-141.48395414, dtype=float64),\n",
       " DeviceArray(-201.48346933, dtype=float64),\n",
       " DeviceArray(-8294.64003892, dtype=float64))"
      ]
     },
     "execution_count": 7,
     "metadata": {},
     "output_type": "execute_result"
    }
   ],
   "source": [
    "logprob_fn([5.0, 4.0]), logprob_fn([4.0, 4.0]), logprob_fn([.0, .0]), "
   ]
  },
  {
   "cell_type": "code",
   "execution_count": 8,
   "id": "cad70a68",
   "metadata": {},
   "outputs": [],
   "source": [
    "def logprob_fn_analytical(theta):\n",
    "    # Assuming s = 1\n",
    "    err = (y-x*theta[1] - theta[0])\n",
    "    return -1*(num_points*jnp.log(2*np.pi)/2 + err@err/2)"
   ]
  },
  {
   "cell_type": "markdown",
   "id": "66a560f0",
   "metadata": {},
   "source": [
    "https://www.stat.cmu.edu/~cshalizi/mreg/15/lectures/06/lecture-06.pdf"
   ]
  },
  {
   "cell_type": "code",
   "execution_count": 9,
   "id": "44ac9d36",
   "metadata": {},
   "outputs": [
    {
     "data": {
      "text/plain": [
       "(DeviceArray(-141.48395414, dtype=float64),\n",
       " DeviceArray(-201.48346933, dtype=float64),\n",
       " DeviceArray(-8294.64003892, dtype=float64))"
      ]
     },
     "execution_count": 9,
     "metadata": {},
     "output_type": "execute_result"
    }
   ],
   "source": [
    "logprob_fn([5.0, 4.0]), logprob_fn([4.0, 4.0]), logprob_fn([.0, .0]), "
   ]
  },
  {
   "cell_type": "markdown",
   "id": "1f706561",
   "metadata": {},
   "source": [
    "Clearly, our implementation of (negative) logprob_fn seems to be correct. "
   ]
  },
  {
   "cell_type": "markdown",
   "id": "01b00840",
   "metadata": {},
   "source": [
    "## MCMC \n",
    "\n",
    "Code adapted (reused from): https://blackjax-devs.github.io/blackjax/examples/LogisticRegression.html"
   ]
  },
  {
   "cell_type": "code",
   "execution_count": 10,
   "id": "efa27ff5",
   "metadata": {},
   "outputs": [],
   "source": [
    "rng_key = random.PRNGKey(314)\n",
    "\n",
    "theta0 = random.multivariate_normal(rng_key, 0.1 + jnp.zeros(M), jnp.eye(M))\n",
    "\n",
    "rmh = blackjax.rmh(logprob_fn, sigma=jnp.ones(M) * 0.1)\n",
    "initial_state = rmh.init(theta0)"
   ]
  },
  {
   "cell_type": "code",
   "execution_count": 11,
   "id": "91c4687c",
   "metadata": {},
   "outputs": [
    {
     "data": {
      "text/plain": [
       "RMHState(position=DeviceArray([-0.0621457,  0.6826571], dtype=float64), log_probability=DeviceArray(-6194.28920635, dtype=float64))"
      ]
     },
     "execution_count": 11,
     "metadata": {},
     "output_type": "execute_result"
    }
   ],
   "source": [
    "initial_state"
   ]
  },
  {
   "cell_type": "code",
   "execution_count": 12,
   "id": "1c469708",
   "metadata": {},
   "outputs": [],
   "source": [
    "def inference_loop(rng_key, kernel, initial_state, num_samples):\n",
    "    @jax.jit\n",
    "    def one_step(state, rng_key):\n",
    "        state, _ = kernel(rng_key, state)\n",
    "        return state, state\n",
    "\n",
    "    keys = jax.random.split(rng_key, num_samples)\n",
    "    _, states = jax.lax.scan(one_step, initial_state, keys)\n",
    "\n",
    "    return states"
   ]
  },
  {
   "cell_type": "code",
   "execution_count": 13,
   "id": "762b2c7e",
   "metadata": {},
   "outputs": [],
   "source": [
    "_, rng_key = random.split(rng_key)\n",
    "states = inference_loop(rng_key, rmh.step, initial_state, 5_000)"
   ]
  },
  {
   "cell_type": "code",
   "execution_count": 14,
   "id": "01722671",
   "metadata": {},
   "outputs": [
    {
     "data": {
      "image/png": "[encoded data removed]",
      "text/plain": [
       "<Figure size 864x144 with 2 Axes>"
      ]
     },
     "metadata": {
      "needs_background": "light"
     },
     "output_type": "display_data"
    }
   ],
   "source": [
    "burnin = 300\n",
    "\n",
    "fig, ax = plt.subplots(1, M, figsize=(12, 2))\n",
    "for i, axi in enumerate(ax):\n",
    "    axi.plot(states.position[:, i])\n",
    "    axi.set_title(f\"$theta_{i}$\")\n",
    "    axi.axvline(x=burnin, c=\"tab:red\")\n",
    "plt.show()"
   ]
  }
 ],
 "metadata": {
  "kernelspec": {
   "display_name": "Python 3 (ipykernel)",
   "language": "python",
   "name": "python3"
  },
  "language_info": {
   "codemirror_mode": {
    "name": "ipython",
    "version": 3
   },
   "file_extension": ".py",
   "mimetype": "text/x-python",
   "name": "python",
   "nbconvert_exporter": "python",
   "pygments_lexer": "ipython3",
   "version": "3.9.12"
  }
 },
 "nbformat": 4,
 "nbformat_minor": 5
}
